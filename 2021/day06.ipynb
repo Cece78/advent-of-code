{
 "cells": [
  {
   "cell_type": "code",
   "execution_count": null,
   "id": "c5c1cfec",
   "metadata": {},
   "outputs": [],
   "source": [
    "from collections import Counter"
   ]
  },
  {
   "cell_type": "code",
   "execution_count": null,
   "id": "de2a6aae",
   "metadata": {},
   "outputs": [],
   "source": [
    "with open(\"day06_input.txt\", \"r\") as f:\n",
    "    content = f.read()\n",
    "puzzle = [int(x) for x in content.strip().split(',')]\n",
    "puzzle"
   ]
  },
  {
   "cell_type": "markdown",
   "id": "e2f8f7ef",
   "metadata": {},
   "source": [
    "## Part 1"
   ]
  },
  {
   "cell_type": "code",
   "execution_count": null,
   "id": "f3b5b317",
   "metadata": {},
   "outputs": [],
   "source": [
    "def aging_fish(fish):\n",
    "    if fish > 0:\n",
    "        return [fish-1]\n",
    "    elif fish == 0:\n",
    "        return [6, 8]\n",
    "\n",
    "def one_day_later(fish_list):\n",
    "    new_fish_list = []\n",
    "    for fish in fish_list:\n",
    "        new_fish = aging_fish(fish)\n",
    "        new_fish_list.extend(new_fish)\n",
    "    return new_fish_list\n",
    "\n",
    "def main(fish_list, days):\n",
    "    for i in range(days):\n",
    "        fish_list = one_day_later(fish_list)\n",
    "    return len(fish_list)"
   ]
  },
  {
   "cell_type": "code",
   "execution_count": null,
   "id": "8ea19b17",
   "metadata": {},
   "outputs": [],
   "source": [
    "main(puzzle, 80)"
   ]
  },
  {
   "cell_type": "markdown",
   "id": "02d96508",
   "metadata": {},
   "source": [
    "## Part 2"
   ]
  },
  {
   "cell_type": "code",
   "execution_count": null,
   "id": "6868c98c",
   "metadata": {},
   "outputs": [],
   "source": [
    "# Refactor functions\n",
    "\n",
    "def next_day(fish_counts):\n",
    "    new_fish_counts = {}\n",
    "    for age in range(9):\n",
    "        if age == 8:\n",
    "            new_fish_counts[age] = fish_counts[0]\n",
    "        elif age == 6:\n",
    "            new_fish_counts[age] = fish_counts[0] + fish_counts[7]\n",
    "        else:\n",
    "            new_fish_counts[age] = fish_counts[age+1]\n",
    "    return new_fish_counts\n",
    "\n",
    "def main_2(fishes, days):\n",
    "    for i in range(days):\n",
    "        fishes = next_day(fishes)\n",
    "    return sum(list(fishes.values()))"
   ]
  },
  {
   "cell_type": "code",
   "execution_count": null,
   "id": "a36e3cc3",
   "metadata": {},
   "outputs": [],
   "source": [
    "puzzle_dict = dict(Counter(puzzle))\n",
    "for i in range(8+1):\n",
    "    if i not in puzzle_dict.keys():\n",
    "        puzzle_dict[i]=0\n",
    "puzzle_dict"
   ]
  },
  {
   "cell_type": "code",
   "execution_count": null,
   "id": "78f052ef",
   "metadata": {},
   "outputs": [],
   "source": [
    "main_2(puzzle_dict, 256)"
   ]
  }
 ],
 "metadata": {
  "kernelspec": {
   "display_name": "Python 3",
   "language": "python",
   "name": "python3"
  },
  "language_info": {
   "codemirror_mode": {
    "name": "ipython",
    "version": 3
   },
   "file_extension": ".py",
   "mimetype": "text/x-python",
   "name": "python",
   "nbconvert_exporter": "python",
   "pygments_lexer": "ipython3",
   "version": "3.8.8"
  }
 },
 "nbformat": 4,
 "nbformat_minor": 5
}
