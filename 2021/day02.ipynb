{
 "cells": [
  {
   "cell_type": "code",
   "execution_count": null,
   "id": "ce9f1b48",
   "metadata": {},
   "outputs": [],
   "source": [
    "with open(\"day02_input.txt\", \"r\") as f:\n",
    "    puzzle = [x.strip().split(\" \") for x in f]\n",
    "puzzle"
   ]
  },
  {
   "cell_type": "markdown",
   "id": "72aae236",
   "metadata": {},
   "source": [
    "## Part 1"
   ]
  },
  {
   "cell_type": "code",
   "execution_count": null,
   "id": "22075f0d",
   "metadata": {},
   "outputs": [],
   "source": [
    "directions = {\n",
    "    \"depth\": 0,\n",
    "    \"position\": 0\n",
    "}\n",
    "\n",
    "for instruction in puzzle:\n",
    "    if instruction[0] == \"down\":\n",
    "        directions[\"depth\"] += int(instruction[1])\n",
    "    elif instruction[0] == \"up\":\n",
    "        directions[\"depth\"] -= int(instruction[1])\n",
    "    else:\n",
    "        directions[\"position\"] += int(instruction[1])"
   ]
  },
  {
   "cell_type": "code",
   "execution_count": null,
   "id": "0e837987",
   "metadata": {},
   "outputs": [],
   "source": [
    "answer = directions[\"depth\"]*directions[\"position\"]\n",
    "answer"
   ]
  },
  {
   "cell_type": "markdown",
   "id": "c8f54b05",
   "metadata": {},
   "source": [
    "## Part 2"
   ]
  },
  {
   "cell_type": "code",
   "execution_count": null,
   "id": "9f661181",
   "metadata": {},
   "outputs": [],
   "source": [
    "position_tracker = {\n",
    "    \"depth\": 0,\n",
    "    \"position\": 0,\n",
    "    \"aim\": 0\n",
    "}\n",
    "\n",
    "def read_instructions(instruction):\n",
    "    return instruction[0], int(instruction[1])\n",
    "\n",
    "def forward(movement, current_position):\n",
    "    current_position[\"position\"] += movement\n",
    "    current_position[\"depth\"] += current_position[\"aim\"]*movement\n",
    "    return current_position\n",
    "\n",
    "def down(movement, current_position):\n",
    "    current_position[\"aim\"] += movement\n",
    "    return current_position\n",
    "\n",
    "def up(movement, current_position):\n",
    "    current_position[\"aim\"] -= movement\n",
    "    return current_position\n",
    "\n",
    "def get_function(instruction, movement, current_position):\n",
    "    if instruction == \"forward\":\n",
    "        return forward(movement, current_position)\n",
    "    elif instruction == \"down\":\n",
    "        return down(movement, current_position)\n",
    "    elif instruction == \"up\":\n",
    "        return up(movement, current_position)\n",
    "\n",
    "def track_position(instructions, current_position):\n",
    "    for line in instructions:\n",
    "        instruction, movement = read_instructions(line)\n",
    "        current_position = get_function(instruction, movement, current_position)\n",
    "    return current_position\n",
    "\n",
    "position_tracker = track_position(puzzle, position_tracker)"
   ]
  },
  {
   "cell_type": "code",
   "execution_count": null,
   "id": "97d2ec60",
   "metadata": {},
   "outputs": [],
   "source": [
    "answer = position_tracker[\"position\"]*position_tracker[\"depth\"]\n",
    "answer"
   ]
  }
 ],
 "metadata": {
  "kernelspec": {
   "display_name": "Python 3",
   "language": "python",
   "name": "python3"
  },
  "language_info": {
   "codemirror_mode": {
    "name": "ipython",
    "version": 3
   },
   "file_extension": ".py",
   "mimetype": "text/x-python",
   "name": "python",
   "nbconvert_exporter": "python",
   "pygments_lexer": "ipython3",
   "version": "3.8.8"
  }
 },
 "nbformat": 4,
 "nbformat_minor": 5
}
