{
 "cells": [
  {
   "cell_type": "code",
   "execution_count": null,
   "id": "ab8ace4f",
   "metadata": {},
   "outputs": [],
   "source": [
    "with open(\"day01_input.txt\", \"r\") as f:\n",
    "    puzzle = [int(x.strip()) for x in f]"
   ]
  },
  {
   "cell_type": "markdown",
   "id": "443db347",
   "metadata": {},
   "source": [
    "## Part 1"
   ]
  },
  {
   "cell_type": "code",
   "execution_count": null,
   "id": "82aba018",
   "metadata": {},
   "outputs": [],
   "source": [
    "count = 0\n",
    "for i, x in enumerate(puzzle):\n",
    "    if i>0 :\n",
    "        if (puzzle[i]-puzzle[i-1])>0:\n",
    "            count+=1\n",
    "count"
   ]
  },
  {
   "cell_type": "markdown",
   "id": "7af3a4cf",
   "metadata": {},
   "source": [
    "## Part 2"
   ]
  },
  {
   "cell_type": "code",
   "execution_count": null,
   "id": "1450f732",
   "metadata": {},
   "outputs": [],
   "source": [
    "count = 0\n",
    "for i, x in enumerate(puzzle):\n",
    "    if i>=3 :\n",
    "        if sum(puzzle[i-3:i])<sum(puzzle[i-2:i+1]):\n",
    "            count+=1\n",
    "count"
   ]
  }
 ],
 "metadata": {
  "kernelspec": {
   "display_name": "Python 3",
   "language": "python",
   "name": "python3"
  },
  "language_info": {
   "codemirror_mode": {
    "name": "ipython",
    "version": 3
   },
   "file_extension": ".py",
   "mimetype": "text/x-python",
   "name": "python",
   "nbconvert_exporter": "python",
   "pygments_lexer": "ipython3",
   "version": "3.8.8"
  }
 },
 "nbformat": 4,
 "nbformat_minor": 5
}
