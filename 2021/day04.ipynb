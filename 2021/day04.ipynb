{
 "cells": [
  {
   "cell_type": "code",
   "execution_count": null,
   "id": "10906a28",
   "metadata": {},
   "outputs": [],
   "source": [
    "import numpy as np"
   ]
  },
  {
   "cell_type": "code",
   "execution_count": null,
   "id": "ac7c0e24",
   "metadata": {},
   "outputs": [],
   "source": [
    "with open(\"day04_input.txt\", \"r\") as f:\n",
    "    content = f.read()\n",
    "\n",
    "numbers_drawn = [int(x) for x in content.split(\"\\n\")[0].split(\",\")]\n",
    "rest = content.strip().split(\"\\n\")[2:]\n",
    "\n",
    "all_boards = [board.split(\"\\n\") for board in \"\\n\".join(rest).split(\"\\n\\n\")]\n",
    "all_boards = [np.array([[int(x) for x in row.split()] for row in board]) for board in all_boards]\n",
    "\n",
    "all_boards[-1]"
   ]
  },
  {
   "cell_type": "markdown",
   "id": "a4fa3da0",
   "metadata": {},
   "source": [
    "## Part 1"
   ]
  },
  {
   "cell_type": "code",
   "execution_count": null,
   "id": "05abad91",
   "metadata": {},
   "outputs": [],
   "source": [
    "# Create \"tracker\" matrices\n",
    "\n",
    "tracker = []\n",
    "for i in range(len(all_boards)):\n",
    "    matrix = np.array([[0 for i in range(5)] for j in range(5)])\n",
    "    tracker.append(matrix)\n",
    "tracker[0]"
   ]
  },
  {
   "cell_type": "code",
   "execution_count": null,
   "id": "43f6837f",
   "metadata": {},
   "outputs": [],
   "source": [
    "# Functions\n",
    "\n",
    "def handle(number, array, tracker):\n",
    "    \"\"\"Returns a new tracker\"\"\"\n",
    "    newtracker = []\n",
    "    for r, row in enumerate(array):\n",
    "        newtracker.append([])\n",
    "        for c, col in enumerate(array[r]):\n",
    "            if number == array[r][c]:\n",
    "                newtracker[-1].append(1)\n",
    "            else:\n",
    "                newtracker[-1].append(tracker[r][c])\n",
    "    return np.array(newtracker)\n",
    "\n",
    "\n",
    "def check_bingo(track_array):\n",
    "    for i in range(len(track_array)):\n",
    "        if (sum(track_array[i,:]) == len(track_array)) | (sum(track_array[:,i]) == len(track_array)):\n",
    "            return True\n",
    "\n",
    "        \n",
    "def unmarked_numbers_score(array, track_array):\n",
    "    track_array = track_array -1\n",
    "    return -sum(sum(array*track_array))\n",
    "\n",
    "\n",
    "def main(matrices, trackers, numbers): \n",
    "    for number in numbers:\n",
    "        newtrackers = []\n",
    "        for board, tracker in zip(matrices, trackers):\n",
    "            newtracker = handle(number, board, tracker)\n",
    "            \n",
    "            if check_bingo(newtracker):\n",
    "                return unmarked_numbers_score(board, newtracker) * number\n",
    "            newtrackers.append(newtracker)\n",
    "        trackers = newtrackers"
   ]
  },
  {
   "cell_type": "code",
   "execution_count": null,
   "id": "2a32a6f7",
   "metadata": {},
   "outputs": [],
   "source": [
    "# Run\n",
    "\n",
    "answer = main(all_boards, tracker, numbers_drawn)\n",
    "answer"
   ]
  }
 ],
 "metadata": {
  "kernelspec": {
   "display_name": "Python 3",
   "language": "python",
   "name": "python3"
  },
  "language_info": {
   "codemirror_mode": {
    "name": "ipython",
    "version": 3
   },
   "file_extension": ".py",
   "mimetype": "text/x-python",
   "name": "python",
   "nbconvert_exporter": "python",
   "pygments_lexer": "ipython3",
   "version": "3.8.8"
  }
 },
 "nbformat": 4,
 "nbformat_minor": 5
}
