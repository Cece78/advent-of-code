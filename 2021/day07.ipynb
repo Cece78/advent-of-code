{
 "cells": [
  {
   "cell_type": "code",
   "execution_count": null,
   "id": "0c415568",
   "metadata": {},
   "outputs": [],
   "source": [
    "import numpy as np"
   ]
  },
  {
   "cell_type": "code",
   "execution_count": null,
   "id": "2075ff09",
   "metadata": {
    "scrolled": true
   },
   "outputs": [],
   "source": [
    "with open(\"day07_input.txt\", \"r\") as f:\n",
    "    content = f.read()\n",
    "\n",
    "puzzle = np.array([int(x) for x in content.strip().split(',')])\n",
    "puzzle"
   ]
  },
  {
   "cell_type": "markdown",
   "id": "10e6fb88",
   "metadata": {},
   "source": [
    "## Part 1"
   ]
  },
  {
   "cell_type": "code",
   "execution_count": null,
   "id": "a451aa04",
   "metadata": {},
   "outputs": [],
   "source": [
    "def crab_move(start, end):\n",
    "    return abs(start-end)\n",
    "\n",
    "def fuel_cost(data, position):\n",
    "    cost = abs(data - position)\n",
    "    return sum(cost)\n",
    "\n",
    "def run(data):\n",
    "    positions = {}\n",
    "    for i in range(data.min(), data.max()+1):\n",
    "        positions[i] = fuel_cost(data, i)\n",
    "    return min(positions.values())"
   ]
  },
  {
   "cell_type": "code",
   "execution_count": null,
   "id": "1beb6b95",
   "metadata": {},
   "outputs": [],
   "source": [
    "answer = run(puzzle)\n",
    "answer"
   ]
  },
  {
   "cell_type": "markdown",
   "id": "d6609102",
   "metadata": {},
   "source": [
    "## Part 2"
   ]
  },
  {
   "cell_type": "code",
   "execution_count": null,
   "id": "ad6f36cf",
   "metadata": {},
   "outputs": [],
   "source": [
    "# Refactor how we calculate fuel_cost\n",
    "\n",
    "def expensive_fuel_cost(data, position):\n",
    "    move = abs(data - position)\n",
    "    cost = [sum(range(abs(x)+1)) for x in move]\n",
    "    return sum(cost)\n",
    "\n",
    "def run_2(data):\n",
    "    positions = {}\n",
    "    for i in range(data.min(), data.max()+1):\n",
    "        positions[i] = expensive_fuel_cost(data, i)\n",
    "    return min(positions.values())"
   ]
  },
  {
   "cell_type": "code",
   "execution_count": null,
   "id": "5ba5cae3",
   "metadata": {},
   "outputs": [],
   "source": [
    "answer = run_2(puzzle)\n",
    "answer"
   ]
  }
 ],
 "metadata": {
  "kernelspec": {
   "display_name": "Python 3",
   "language": "python",
   "name": "python3"
  },
  "language_info": {
   "codemirror_mode": {
    "name": "ipython",
    "version": 3
   },
   "file_extension": ".py",
   "mimetype": "text/x-python",
   "name": "python",
   "nbconvert_exporter": "python",
   "pygments_lexer": "ipython3",
   "version": "3.8.8"
  }
 },
 "nbformat": 4,
 "nbformat_minor": 5
}
