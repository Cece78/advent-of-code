{
 "cells": [
  {
   "cell_type": "code",
   "execution_count": null,
   "id": "06e11368",
   "metadata": {},
   "outputs": [],
   "source": [
    "import math"
   ]
  },
  {
   "cell_type": "code",
   "execution_count": null,
   "id": "1381b929",
   "metadata": {},
   "outputs": [],
   "source": [
    "with open(\"day03_input.txt\", \"r\") as f:\n",
    "    puzzle = [x.strip()for x in f]\n",
    "puzzle"
   ]
  },
  {
   "cell_type": "markdown",
   "id": "4fe7daf3",
   "metadata": {},
   "source": [
    "## Part 1"
   ]
  },
  {
   "cell_type": "code",
   "execution_count": null,
   "id": "f45fe2e9",
   "metadata": {},
   "outputs": [],
   "source": [
    "def find_bit(position, puzzle, common=True): # Re-factored to also work for Part 2\n",
    "    bits = sum([int(x[position]) for x in puzzle])/len(puzzle) \n",
    "    \n",
    "    if common: # Most common bit\n",
    "        if bits != 0.5:\n",
    "            return(round(bits))\n",
    "        else:\n",
    "            return(1)\n",
    "    \n",
    "    else: # Least common bit\n",
    "        if bits != 0.5:\n",
    "            return(1 - round(bits))\n",
    "        else:\n",
    "            return(0)\n",
    "\n",
    "def gamma_rate(puzzle):\n",
    "    gamma = []\n",
    "    for i in range(len(puzzle[0])):\n",
    "        gamma.append(find_common_bit(i, puzzle))\n",
    "    return(gamma)\n",
    "\n",
    "def epsilon_rate(gamma_rate):\n",
    "    epsilon = [abs(x-1) for x in gamma_rate]\n",
    "    return(epsilon)\n",
    "\n",
    "def to_string(number_list):\n",
    "    number = [str(x) for x in number_list]\n",
    "    return(\"\".join(number))\n",
    "\n",
    "def to_decimal(binary):\n",
    "    return(int(binary, 2))\n",
    "\n",
    "def main_part1(puzzle):\n",
    "    gamma = gamma_rate(puzzle)\n",
    "    epsilon = epsilon_rate(gamma)\n",
    "    decimal_gamma = to_decimal(to_string(gamma))\n",
    "    decimal_epsilon = to_decimal(to_string(epsilon))\n",
    "    return(decimal_gamma*decimal_epsilon)"
   ]
  },
  {
   "cell_type": "code",
   "execution_count": null,
   "id": "0ae00f76",
   "metadata": {},
   "outputs": [],
   "source": [
    "main_part1(puzzle)"
   ]
  },
  {
   "cell_type": "markdown",
   "id": "069d41f9",
   "metadata": {},
   "source": [
    "## Part 2"
   ]
  },
  {
   "cell_type": "code",
   "execution_count": null,
   "id": "8f65bb36",
   "metadata": {},
   "outputs": [],
   "source": [
    "# Additional functions\n",
    "\n",
    "def filter_list(data, criteria, index):\n",
    "    return([p for p in data if p[index]==criteria])\n",
    "\n",
    "\n",
    "def find_rate(data, most_common_bit):\n",
    "    options = data.copy()\n",
    "    for i in range(len(data[0])):\n",
    "        if len(options)== 1:\n",
    "            break\n",
    "        else:\n",
    "            # Determine the \"reference\" bit\n",
    "            bit = find_bit(i, options, common=most_common_bit)\n",
    "            # Filter the options\n",
    "            options = filter_list(options, str(bit), i)\n",
    "    return(options)\n",
    "\n",
    "def main_part_2(data):\n",
    "    oxygen = find_rate(data, most_common_bit=True)\n",
    "    co2 = find_rate(data, most_common_bit=False)\n",
    "    oxygen = to_decimal(to_string(oxygen))\n",
    "    co2 = to_decimal(to_string(co2))\n",
    "    return(oxygen*co2)"
   ]
  },
  {
   "cell_type": "code",
   "execution_count": null,
   "id": "4bc31b2c",
   "metadata": {
    "scrolled": true
   },
   "outputs": [],
   "source": [
    "main_part_2(puzzle)"
   ]
  }
 ],
 "metadata": {
  "kernelspec": {
   "display_name": "Python 3",
   "language": "python",
   "name": "python3"
  },
  "language_info": {
   "codemirror_mode": {
    "name": "ipython",
    "version": 3
   },
   "file_extension": ".py",
   "mimetype": "text/x-python",
   "name": "python",
   "nbconvert_exporter": "python",
   "pygments_lexer": "ipython3",
   "version": "3.8.8"
  }
 },
 "nbformat": 4,
 "nbformat_minor": 5
}
